{
 "cells": [
  {
   "cell_type": "code",
   "execution_count": 75,
   "id": "5f8ee871",
   "metadata": {},
   "outputs": [],
   "source": [
    "from textblob import TextBlob"
   ]
  },
  {
   "cell_type": "code",
   "execution_count": 76,
   "id": "46e4a453",
   "metadata": {},
   "outputs": [],
   "source": [
    "sentence = TextBlob(\"Natural Language Processing is based on the Human Language, Shilash is a good boy\")"
   ]
  },
  {
   "cell_type": "code",
   "execution_count": 77,
   "id": "ebbfdd90",
   "metadata": {},
   "outputs": [
    {
     "data": {
      "text/plain": [
       "[('Natural', 'JJ'),\n",
       " ('Language', 'NNP'),\n",
       " ('Processing', 'NNP'),\n",
       " ('is', 'VBZ'),\n",
       " ('based', 'VBN'),\n",
       " ('on', 'IN'),\n",
       " ('the', 'DT'),\n",
       " ('Human', 'NNP'),\n",
       " ('Language', 'NNP'),\n",
       " ('Shilash', 'NNP'),\n",
       " ('is', 'VBZ'),\n",
       " ('a', 'DT'),\n",
       " ('good', 'JJ'),\n",
       " ('boy', 'NN')]"
      ]
     },
     "execution_count": 77,
     "metadata": {},
     "output_type": "execute_result"
    }
   ],
   "source": [
    "# Part of Speech Tagging\n",
    "sentence.tags"
   ]
  },
  {
   "cell_type": "code",
   "execution_count": 78,
   "id": "5bf65621",
   "metadata": {},
   "outputs": [
    {
     "data": {
      "text/plain": [
       "WordList(['language processing', 'language', 'shilash', 'good boy'])"
      ]
     },
     "execution_count": 78,
     "metadata": {},
     "output_type": "execute_result"
    }
   ],
   "source": [
    "# Noun phrase extraction - This will returns the noun in the sentence.\n",
    "sentence.noun_phrases"
   ]
  },
  {
   "cell_type": "code",
   "execution_count": 79,
   "id": "399c0d27",
   "metadata": {},
   "outputs": [
    {
     "data": {
      "text/plain": [
       "Sentiment(polarity=-0.6999999999999998, subjectivity=0.6666666666666666)"
      ]
     },
     "execution_count": 79,
     "metadata": {},
     "output_type": "execute_result"
    }
   ],
   "source": [
    "# Sentimental Analysis\n",
    "\n",
    "# It is a negative sentiment\n",
    "sentence = \"I had bad experience at hotel\"\n",
    "# If you want to leverge the usage of textblob attributes or a methods for your text, first you need to convert the \n",
    "# text into textblob text by passing your text into the textblob class\n",
    "\n",
    "tb_sentence = TextBlob(sentence)\n",
    "# TextBlob also show it as a negative sentiment\n",
    "tb_sentence.sentiment"
   ]
  },
  {
   "cell_type": "code",
   "execution_count": 80,
   "id": "ae122747",
   "metadata": {},
   "outputs": [
    {
     "data": {
      "text/plain": [
       "Sentiment(polarity=0.7, subjectivity=0.6000000000000001)"
      ]
     },
     "execution_count": 80,
     "metadata": {},
     "output_type": "execute_result"
    }
   ],
   "source": [
    "# Trying with a postive sentiment sentence.\n",
    "positive_sentence = \"This is good place to visit.\"\n",
    "tb_sentence = TextBlob(positive_sentence)\n",
    "# This shows the positive sentiment, which is actually correct\n",
    "tb_sentence.sentiment"
   ]
  },
  {
   "cell_type": "code",
   "execution_count": 81,
   "id": "3a10ed0b",
   "metadata": {},
   "outputs": [
    {
     "data": {
      "text/plain": [
       "Sentiment(polarity=0.0, subjectivity=0.0)"
      ]
     },
     "execution_count": 81,
     "metadata": {},
     "output_type": "execute_result"
    }
   ],
   "source": [
    "# Trying with the neutral sentiment\n",
    "neutral_sentence = \"How are you?\"\n",
    "tb_sentence = TextBlob(neutral_sentence)\n",
    "\n",
    "# This shows the 0 polarity which means neutral sentiment, which is actually correct\n",
    "tb_sentence.sentiment"
   ]
  },
  {
   "cell_type": "code",
   "execution_count": 82,
   "id": "2c253652",
   "metadata": {},
   "outputs": [],
   "source": [
    "# tokeniztion \n",
    "\n",
    "sentence = \"# If you want to leverge the usage of textblob attributes or a methods for your text, first you need to convert the # text into textblob text by passing your text into the textblob class\" \n",
    "\n",
    "# Word tokenization\n",
    "tb_sentence = TextBlob(sentence)\n",
    "tokens = tb_sentence.words"
   ]
  },
  {
   "cell_type": "code",
   "execution_count": 83,
   "id": "486d5e12",
   "metadata": {},
   "outputs": [
    {
     "data": {
      "text/plain": [
       "WordList(['If', 'you', 'want', 'to', 'leverge', 'the', 'usage', 'of', 'textblob', 'attributes', 'or', 'a', 'methods', 'for', 'your', 'text', 'first', 'you', 'need', 'to', 'convert', 'the', 'text', 'into', 'textblob', 'text', 'by', 'passing', 'your', 'text', 'into', 'the', 'textblob', 'class'])"
      ]
     },
     "execution_count": 83,
     "metadata": {},
     "output_type": "execute_result"
    }
   ],
   "source": [
    "tokens"
   ]
  },
  {
   "cell_type": "code",
   "execution_count": 84,
   "id": "77b42467",
   "metadata": {},
   "outputs": [
    {
     "data": {
      "text/plain": [
       "[Sentence(\"# If you want to leverge the usage of textblob attributes or a methods for your text, first you need to convert the # text into textblob text by passing your text into the textblob class\")]"
      ]
     },
     "execution_count": 84,
     "metadata": {},
     "output_type": "execute_result"
    }
   ],
   "source": [
    "# Sentence Tokenization\n",
    "sentence = tb_sentence.sentences\n",
    "sentence"
   ]
  },
  {
   "cell_type": "code",
   "execution_count": 85,
   "id": "ed8cef25",
   "metadata": {},
   "outputs": [
    {
     "data": {
      "text/plain": [
       "'toes'"
      ]
     },
     "execution_count": 85,
     "metadata": {},
     "output_type": "execute_result"
    }
   ],
   "source": [
    "# We can also convert the tokens into plural or singular form using the attributes .pluralize and .singularize.\n",
    "tokens[3].pluralize()"
   ]
  },
  {
   "cell_type": "code",
   "execution_count": 86,
   "id": "d381ec0b",
   "metadata": {},
   "outputs": [
    {
     "name": "stderr",
     "output_type": "stream",
     "text": [
      "[nltk_data] Downloading package omw-1.4 to\n",
      "[nltk_data]     /home/adminuser/nltk_data...\n",
      "[nltk_data]   Package omw-1.4 is already up-to-date!\n"
     ]
    },
    {
     "data": {
      "text/plain": [
       "'go'"
      ]
     },
     "execution_count": 86,
     "metadata": {},
     "output_type": "execute_result"
    }
   ],
   "source": [
    "# Lemmatization\n",
    "import nltk\n",
    "nltk.download('omw-1.4')\n",
    "from textblob import Word \n",
    "word = Word(\"went\")\n",
    "\n",
    "# Passing a verb pos tag into the lemmatization.\n",
    "word.lemmatize('v')"
   ]
  },
  {
   "cell_type": "code",
   "execution_count": 87,
   "id": "2e914743",
   "metadata": {},
   "outputs": [
    {
     "data": {
      "text/plain": [
       "[Synset('goat.n.01'),\n",
       " Synset('butt.n.03'),\n",
       " Synset('capricorn.n.01'),\n",
       " Synset('capricorn.n.03')]"
      ]
     },
     "execution_count": 87,
     "metadata": {},
     "output_type": "execute_result"
    }
   ],
   "source": [
    "# Synset -- synomous with the wordnet \n",
    "\n",
    "from textblob.wordnet import VERB\n",
    "\n",
    "word = Word(\"goat\")\n",
    "word.synsets"
   ]
  },
  {
   "cell_type": "code",
   "execution_count": 88,
   "id": "3141e64a",
   "metadata": {},
   "outputs": [
    {
     "data": {
      "text/plain": [
       "TextBlob(\"I don know the spells in english can anyone teach em\")"
      ]
     },
     "execution_count": 88,
     "metadata": {},
     "output_type": "execute_result"
    }
   ],
   "source": [
    "# Spell check \n",
    "\n",
    "sentence = \"I don knos the spellss in enflih can anyone texch em\"\n",
    "tb_sentence = TextBlob(sentence)\n",
    "tb_sentence.correct()"
   ]
  },
  {
   "cell_type": "code",
   "execution_count": 89,
   "id": "b86a592a",
   "metadata": {},
   "outputs": [
    {
     "data": {
      "text/plain": [
       "[('czechoslovakia', 1.0)]"
      ]
     },
     "execution_count": 89,
     "metadata": {},
     "output_type": "execute_result"
    }
   ],
   "source": [
    "# Spell check with the confident probability\n",
    "\n",
    "word = Word(\"chechoslovakia\")\n",
    "word.spellcheck()"
   ]
  },
  {
   "cell_type": "code",
   "execution_count": 90,
   "id": "c830186d",
   "metadata": {},
   "outputs": [
    {
     "name": "stdout",
     "output_type": "stream",
     "text": [
      "हाय, मेरा नाम शिलाश है!\n"
     ]
    }
   ],
   "source": [
    "# Machine Translation and detection.\n",
    "sentence = \"hi, my name is shilash!\"\n",
    "tb_sentence = TextBlob(sentence)\n",
    "print(tb_sentence.translate(from_lang = 'en', to = 'hi'))"
   ]
  },
  {
   "cell_type": "code",
   "execution_count": 91,
   "id": "d46acbf1",
   "metadata": {},
   "outputs": [
    {
     "data": {
      "text/plain": [
       "TextBlob(\"There is always good\")"
      ]
     },
     "execution_count": 91,
     "metadata": {},
     "output_type": "execute_result"
    }
   ],
   "source": [
    "chinese_blob = TextBlob(u\"有总比没有好\")\n",
    "chinese_blob.translate(from_lang=\"zh-CN\", to='en')"
   ]
  },
  {
   "cell_type": "code",
   "execution_count": 96,
   "id": "99e62b92",
   "metadata": {},
   "outputs": [
    {
     "data": {
      "text/plain": [
       "[WordList(['hi', 'how']),\n",
       " WordList(['how', 'you']),\n",
       " WordList(['you', 'doing']),\n",
       " WordList(['doing', 'Long']),\n",
       " WordList(['Long', 'time']),\n",
       " WordList(['time', 'no']),\n",
       " WordList(['no', 'see'])]"
      ]
     },
     "execution_count": 96,
     "metadata": {},
     "output_type": "execute_result"
    }
   ],
   "source": [
    "# n_grams - This is give a every possible combination of n number of words in sentence\n",
    "\n",
    "sentence = \"hi how you doing? Long time no see ?\"\n",
    "tb_sentence = TextBlob(sentence)\n",
    "tb_sentence.ngrams(n = 2)"
   ]
  }
 ],
 "metadata": {
  "kernelspec": {
   "display_name": "Python 3 (ipykernel)",
   "language": "python",
   "name": "python3"
  },
  "language_info": {
   "codemirror_mode": {
    "name": "ipython",
    "version": 3
   },
   "file_extension": ".py",
   "mimetype": "text/x-python",
   "name": "python",
   "nbconvert_exporter": "python",
   "pygments_lexer": "ipython3",
   "version": "3.9.2"
  }
 },
 "nbformat": 4,
 "nbformat_minor": 5
}
